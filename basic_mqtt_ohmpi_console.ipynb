{
 "cells": [
  {
   "cell_type": "markdown",
   "id": "606c11c0-3a80-4138-ac50-1da0bd01bef8",
   "metadata": {},
   "source": [
    "# A small code to test MQTT interface for ohmpi"
   ]
  },
  {
   "cell_type": "code",
   "execution_count": 1,
   "id": "daf2041b-1df9-42de-a385-f450a826c96f",
   "metadata": {},
   "outputs": [],
   "source": [
    "import paho.mqtt.client as mqtt\n",
    "import time"
   ]
  },
  {
   "cell_type": "code",
   "execution_count": 2,
   "id": "14c42035",
   "metadata": {},
   "outputs": [],
   "source": [
    "client_id = 'ohmpi_console_sn_0001'\n",
    "measurements_topic = 'measurements_ohmpi_sn_0001'"
   ]
  },
  {
   "cell_type": "code",
   "execution_count": 3,
   "id": "391c6373-f7db-485e-b3dd-b1e04a37473a",
   "metadata": {},
   "outputs": [],
   "source": [
    "broker_address=\"mg3d-dev.umons.ac.be\""
   ]
  },
  {
   "cell_type": "code",
   "execution_count": 4,
   "id": "8fc857ba-bbcf-4f99-a30f-84fd14ddb2d0",
   "metadata": {},
   "outputs": [],
   "source": [
    "client = mqtt.Client(client_id, protocol=4) #create new instance"
   ]
  },
  {
   "cell_type": "code",
   "execution_count": 5,
   "id": "24926751-62c6-4833-8d68-99279192d4e0",
   "metadata": {},
   "outputs": [],
   "source": [
    "def on_message(client, userdata, message):\n",
    "    m = str(message.payload.decode(\"utf-8\"))\n",
    "    print(f'message received {m}')\n",
    "    print(f'topic: {message.topic}')\n",
    "    print(f'qos: {message.qos}')\n",
    "    print(f'retain flag: {message.retain}')"
   ]
  },
  {
   "cell_type": "code",
   "execution_count": 6,
   "id": "06e424ff-cd1d-4756-bf53-cfbca4628e73",
   "metadata": {},
   "outputs": [
    {
     "data": {
      "text/plain": [
       "0"
      ]
     },
     "execution_count": 6,
     "metadata": {},
     "output_type": "execute_result"
    }
   ],
   "source": [
    "client.connect(broker_address) #connect to broker"
   ]
  },
  {
   "cell_type": "code",
   "execution_count": 7,
   "id": "f0b06a71-b0bf-4551-a044-94b1100a3a5d",
   "metadata": {},
   "outputs": [],
   "source": [
    "client.on_message = on_message\n",
    "client.loop_start()"
   ]
  },
  {
   "cell_type": "code",
   "execution_count": 8,
   "id": "8e168d2d-25fa-49ac-9d03-dd0da5e61841",
   "metadata": {},
   "outputs": [
    {
     "name": "stdout",
     "output_type": "stream",
     "text": [
      "Subscribing to topic measurements_ohmpi_sn_0001\n"
     ]
    },
    {
     "data": {
      "text/plain": [
       "(0, 1)"
      ]
     },
     "execution_count": 8,
     "metadata": {},
     "output_type": "execute_result"
    }
   ],
   "source": [
    "print(\"Subscribing to topic\", measurements_topic)\n",
    "client.subscribe(measurements_topic)"
   ]
  },
  {
   "cell_type": "code",
   "execution_count": 9,
   "id": "eaa7d034-5383-4ece-a824-f763ce214760",
   "metadata": {},
   "outputs": [
    {
     "name": "stdout",
     "output_type": "stream",
     "text": [
      "message received Resitivity: 215.22 ohm\n",
      "topic: measurements_ohmpi_sn_0001\n",
      "qos: 0\n",
      "retain flag: 0\n",
      "message received Resitivity: 214.94 ohm\n",
      "topic: measurements_ohmpi_sn_0001\n",
      "qos: 0\n",
      "retain flag: 0\n"
     ]
    }
   ],
   "source": [
    "time.sleep(60)"
   ]
  },
  {
   "cell_type": "code",
   "execution_count": 10,
   "id": "9bd768aa-c4d3-429e-b667-6e981bd28353",
   "metadata": {},
   "outputs": [],
   "source": [
    "client.loop_stop()"
   ]
  },
  {
   "cell_type": "code",
   "execution_count": null,
   "id": "f9a0333a-c1ec-42a8-bd24-3dc466c51bb4",
   "metadata": {},
   "outputs": [],
   "source": []
  }
 ],
 "metadata": {
  "kernelspec": {
   "display_name": "Python 3 (ipykernel)",
   "language": "python",
   "name": "python3"
  },
  "language_info": {
   "codemirror_mode": {
    "name": "ipython",
    "version": 3
   },
   "file_extension": ".py",
   "mimetype": "text/x-python",
   "name": "python",
   "nbconvert_exporter": "python",
   "pygments_lexer": "ipython3",
   "version": "3.8.10"
  }
 },
 "nbformat": 4,
 "nbformat_minor": 5
}
