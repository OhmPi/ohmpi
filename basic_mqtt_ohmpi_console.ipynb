{
 "cells": [
  {
   "cell_type": "markdown",
   "id": "606c11c0-3a80-4138-ac50-1da0bd01bef8",
   "metadata": {},
   "source": [
    "# A small code to test MQTT interface for ohmpi"
   ]
  },
  {
   "cell_type": "code",
   "execution_count": 1,
   "id": "daf2041b-1df9-42de-a385-f450a826c96f",
   "metadata": {},
   "outputs": [],
   "source": [
    "import paho.mqtt.client as mqtt\n",
    "import time"
   ]
  },
  {
   "cell_type": "code",
   "execution_count": 2,
   "id": "14c42035",
   "metadata": {},
   "outputs": [],
   "source": [
    "client_id = 'ohmpi_sn_001'\n",
    "control_topic = 'cmd_ohmpi_sn_001'\n",
    "measurements_topic = 'measurements_ohmpi_sn_001'"
   ]
  },
  {
   "cell_type": "code",
   "execution_count": 3,
   "id": "391c6373-f7db-485e-b3dd-b1e04a37473a",
   "metadata": {},
   "outputs": [],
   "source": [
    "broker_address=\"mg3d-dev.umons.ac.be\""
   ]
  },
  {
   "cell_type": "code",
   "execution_count": 4,
   "id": "8fc857ba-bbcf-4f99-a30f-84fd14ddb2d0",
   "metadata": {},
   "outputs": [],
   "source": [
    "client = mqtt.Client(client_id, protocol=4) #create new instance"
   ]
  },
  {
   "cell_type": "code",
   "execution_count": 5,
   "id": "24926751-62c6-4833-8d68-99279192d4e0",
   "metadata": {},
   "outputs": [],
   "source": [
    "def on_message(client, userdata, message):\n",
    "    m = str(message.payload.decode(\"utf-8\"))\n",
    "    print(f'message received {m}')\n",
    "    print(f'topic: {message.topic}')\n",
    "    print(f'qos: {message.qos}')\n",
    "    print(f'retain flag: {message.retain}')\n",
    "    client.publish(measurements_topic, f'{m} 45 ohm.m')"
   ]
  },
  {
   "cell_type": "code",
   "execution_count": 6,
   "id": "06e424ff-cd1d-4756-bf53-cfbca4628e73",
   "metadata": {},
   "outputs": [
    {
     "data": {
      "text/plain": [
       "0"
      ]
     },
     "execution_count": 6,
     "metadata": {},
     "output_type": "execute_result"
    }
   ],
   "source": [
    "client.connect(broker_address) #connect to broker"
   ]
  },
  {
   "cell_type": "code",
   "execution_count": 7,
   "id": "f0b06a71-b0bf-4551-a044-94b1100a3a5d",
   "metadata": {},
   "outputs": [],
   "source": [
    "client.on_message = on_message\n",
    "client.loop_start()"
   ]
  },
  {
   "cell_type": "code",
   "execution_count": 8,
   "id": "8e168d2d-25fa-49ac-9d03-dd0da5e61841",
   "metadata": {},
   "outputs": [
    {
     "name": "stdout",
     "output_type": "stream",
     "text": [
      "Subscribing to topic cmd_ohmpi_sn_001\n"
     ]
    },
    {
     "data": {
      "text/plain": [
       "(0, 1)"
      ]
     },
     "execution_count": 8,
     "metadata": {},
     "output_type": "execute_result"
    }
   ],
   "source": [
    "print(\"Subscribing to topic\", control_topic)\n",
    "client.subscribe(control_topic)"
   ]
  },
  {
   "cell_type": "code",
   "execution_count": null,
   "id": "eaa7d034-5383-4ece-a824-f763ce214760",
   "metadata": {},
   "outputs": [
    {
     "name": "stdout",
     "output_type": "stream",
     "text": [
      "message received 21:26:23 : measure resistivity 0 with array 1 4 2 3\n",
      "topic: cmd_ohmpi_sn_001\n",
      "qos: 0\n",
      "retain flag: 0\n",
      "message received 21:26:24 : measure resistivity 1 with array 2 5 3 4\n",
      "topic: cmd_ohmpi_sn_001\n",
      "qos: 0\n",
      "retain flag: 0\n",
      "message received 21:26:25 : measure resistivity 2 with array 3 6 4 5\n",
      "topic: cmd_ohmpi_sn_001\n",
      "qos: 0\n",
      "retain flag: 0\n",
      "message received 21:26:26 : measure resistivity 3 with array 4 7 5 6\n",
      "topic: cmd_ohmpi_sn_001\n",
      "qos: 0\n",
      "retain flag: 0\n",
      "message received 21:26:27 : measure resistivity 4 with array 5 8 6 7\n",
      "topic: cmd_ohmpi_sn_001\n",
      "qos: 0\n",
      "retain flag: 0\n",
      "message received 21:26:28 : measure resistivity 5 with array 6 9 7 8\n",
      "topic: cmd_ohmpi_sn_001\n",
      "qos: 0\n",
      "retain flag: 0\n",
      "message received 21:26:29 : measure resistivity 6 with array 7 10 8 9\n",
      "topic: cmd_ohmpi_sn_001\n",
      "qos: 0\n",
      "retain flag: 0\n",
      "message received 21:26:30 : measure resistivity 7 with array 8 11 9 10\n",
      "topic: cmd_ohmpi_sn_001\n",
      "qos: 0\n",
      "retain flag: 0\n",
      "message received 21:26:31 : measure resistivity 8 with array 9 12 10 11\n",
      "topic: cmd_ohmpi_sn_001\n",
      "qos: 0\n",
      "retain flag: 0\n",
      "message received 21:26:32 : measure resistivity 9 with array 10 13 11 12\n",
      "topic: cmd_ohmpi_sn_001\n",
      "qos: 0\n",
      "retain flag: 0\n",
      "message received 21:26:33 : measure resistivity 10 with array 11 14 12 13\n",
      "topic: cmd_ohmpi_sn_001\n",
      "qos: 0\n",
      "retain flag: 0\n",
      "message received 21:26:34 : measure resistivity 11 with array 12 15 13 14\n",
      "topic: cmd_ohmpi_sn_001\n",
      "qos: 0\n",
      "retain flag: 0\n",
      "message received 21:26:35 : measure resistivity 12 with array 13 16 14 15\n",
      "topic: cmd_ohmpi_sn_001\n",
      "qos: 0\n",
      "retain flag: 0\n",
      "message received 21:26:36 : measure resistivity 13 with array 14 17 15 16\n",
      "topic: cmd_ohmpi_sn_001\n",
      "qos: 0\n",
      "retain flag: 0\n",
      "message received 21:26:37 : measure resistivity 14 with array 15 18 16 17\n",
      "topic: cmd_ohmpi_sn_001\n",
      "qos: 0\n",
      "retain flag: 0\n",
      "message received 21:26:38 : measure resistivity 15 with array 16 19 17 18\n",
      "topic: cmd_ohmpi_sn_001\n",
      "qos: 0\n",
      "retain flag: 0\n",
      "message received 21:26:39 : measure resistivity 16 with array 17 20 18 19\n",
      "topic: cmd_ohmpi_sn_001\n",
      "qos: 0\n",
      "retain flag: 0\n",
      "message received 21:26:40 : measure resistivity 17 with array 18 21 19 20\n",
      "topic: cmd_ohmpi_sn_001\n",
      "qos: 0\n",
      "retain flag: 0\n",
      "message received 21:26:41 : measure resistivity 18 with array 19 22 20 21\n",
      "topic: cmd_ohmpi_sn_001\n",
      "qos: 0\n",
      "retain flag: 0\n",
      "message received 21:26:42 : measure resistivity 19 with array 20 23 21 22\n",
      "topic: cmd_ohmpi_sn_001\n",
      "qos: 0\n",
      "retain flag: 0\n",
      "message received 21:26:43 : measure resistivity 20 with array 21 24 22 23\n",
      "topic: cmd_ohmpi_sn_001\n",
      "qos: 0\n",
      "retain flag: 0\n",
      "message received 21:26:44 : measure resistivity 21 with array 22 25 23 24\n",
      "topic: cmd_ohmpi_sn_001\n",
      "qos: 0\n",
      "retain flag: 0\n",
      "message received 21:26:45 : measure resistivity 22 with array 23 26 24 25\n",
      "topic: cmd_ohmpi_sn_001\n",
      "qos: 0\n",
      "retain flag: 0\n",
      "message received 21:26:46 : measure resistivity 23 with array 24 27 25 26\n",
      "topic: cmd_ohmpi_sn_001\n",
      "qos: 0\n",
      "retain flag: 0\n",
      "message received 21:26:47 : measure resistivity 24 with array 25 28 26 27\n",
      "topic: cmd_ohmpi_sn_001\n",
      "qos: 0\n",
      "retain flag: 0\n",
      "message received 21:26:48 : measure resistivity 25 with array 26 29 27 28\n",
      "topic: cmd_ohmpi_sn_001\n",
      "qos: 0\n",
      "retain flag: 0\n"
     ]
    }
   ],
   "source": [
    "time.sleep(45)"
   ]
  },
  {
   "cell_type": "code",
   "execution_count": null,
   "id": "9bd768aa-c4d3-429e-b667-6e981bd28353",
   "metadata": {},
   "outputs": [],
   "source": [
    "client.loop_stop()"
   ]
  },
  {
   "cell_type": "code",
   "execution_count": null,
   "id": "f9a0333a-c1ec-42a8-bd24-3dc466c51bb4",
   "metadata": {},
   "outputs": [],
   "source": []
  }
 ],
 "metadata": {
  "kernelspec": {
   "display_name": "Python 3 (ipykernel)",
   "language": "python",
   "name": "python3"
  },
  "language_info": {
   "codemirror_mode": {
    "name": "ipython",
    "version": 3
   },
   "file_extension": ".py",
   "mimetype": "text/x-python",
   "name": "python",
   "nbconvert_exporter": "python",
   "pygments_lexer": "ipython3",
   "version": "3.8.10"
  }
 },
 "nbformat": 4,
 "nbformat_minor": 5
}
